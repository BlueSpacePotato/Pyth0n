{
 "cells": [
  {
   "cell_type": "markdown",
   "metadata": {},
   "source": [
    "# Pyth0n erste Schritte\n",
    "***"
   ]
  },
  {
   "cell_type": "markdown",
   "metadata": {},
   "source": [
    "## Heil Gamb"
   ]
  },
  {
   "cell_type": "code",
   "execution_count": 1,
   "metadata": {},
   "outputs": [
    {
     "name": "stdout",
     "output_type": "stream",
     "text": [
      "Heil Gamb\n"
     ]
    }
   ],
   "source": [
    "print(\"Heil Gamb\")"
   ]
  },
  {
   "cell_type": "code",
   "execution_count": 2,
   "metadata": {},
   "outputs": [
    {
     "name": "stdout",
     "output_type": "stream",
     "text": [
      "Heil Gamb\n",
      "Heil Gamb\n"
     ]
    }
   ],
   "source": [
    "\"\"\"\n",
    "Kommenatre sind wie Sex. \n",
    "Wenn sie gut sind, ist es richtig gut. \n",
    "\"\"\"\n",
    "\n",
    "# Wenn sie schlecht sind, ist es besser wie nichts.\n",
    "\n",
    "a = \"Heil Gamb\"\n",
    "b = 'Heil Gamb'\n",
    "print(a)\n",
    "print(b)"
   ]
  },
  {
   "cell_type": "code",
   "execution_count": 3,
   "metadata": {},
   "outputs": [
    {
     "name": "stdout",
     "output_type": "stream",
     "text": [
      "Heil Gamb\n"
     ]
    }
   ],
   "source": [
    "a = 'Heil'\n",
    "b = 'Gamb'\n",
    "print(a, b)"
   ]
  },
  {
   "cell_type": "code",
   "execution_count": 4,
   "metadata": {},
   "outputs": [
    {
     "name": "stdout",
     "output_type": "stream",
     "text": [
      "Heil Gamb\n"
     ]
    }
   ],
   "source": [
    "print(f'Heil {b}')"
   ]
  },
  {
   "cell_type": "code",
   "execution_count": 5,
   "metadata": {},
   "outputs": [
    {
     "name": "stdout",
     "output_type": "stream",
     "text": [
      "Heil Gamb\n"
     ]
    }
   ],
   "source": [
    "c = a + ' ' + b\n",
    "print(c)"
   ]
  },
  {
   "cell_type": "code",
   "execution_count": 6,
   "metadata": {},
   "outputs": [
    {
     "name": "stdout",
     "output_type": "stream",
     "text": [
      "H\n",
      "e\n",
      "i\n",
      "l\n",
      " \n",
      "G\n",
      "a\n",
      "m\n",
      "b\n"
     ]
    }
   ],
   "source": [
    "for i in c:\n",
    "    print(i)"
   ]
  },
  {
   "cell_type": "code",
   "execution_count": 7,
   "metadata": {},
   "outputs": [
    {
     "name": "stdout",
     "output_type": "stream",
     "text": [
      "Nr.: 0 ist Buchstabe H\n",
      "Nr.: 1 ist Buchstabe e\n",
      "Nr.: 2 ist Buchstabe i\n",
      "Nr.: 3 ist Buchstabe l\n",
      "Nr.: 4 ist Buchstabe  \n",
      "Nr.: 5 ist Buchstabe G\n",
      "Nr.: 6 ist Buchstabe a\n",
      "Nr.: 7 ist Buchstabe m\n",
      "Nr.: 8 ist Buchstabe b\n"
     ]
    }
   ],
   "source": [
    "for idx, i in enumerate(c):\n",
    "    print(f'Nr.: {idx} ist Buchstabe {i}')"
   ]
  },
  {
   "cell_type": "code",
   "execution_count": 8,
   "metadata": {},
   "outputs": [
    {
     "name": "stdout",
     "output_type": "stream",
     "text": [
      "3 7\n",
      "Heil Gamb\n"
     ]
    }
   ],
   "source": [
    "a = 3\n",
    "b = 7\n",
    "print(a, b)\n",
    "a = c[:4]\n",
    "b = c[5:]\n",
    "print(a, b)"
   ]
  }
 ],
 "metadata": {
  "kernelspec": {
   "display_name": "Python 3",
   "language": "python",
   "name": "python3"
  },
  "language_info": {
   "codemirror_mode": {
    "name": "ipython",
    "version": 3
   },
   "file_extension": ".py",
   "mimetype": "text/x-python",
   "name": "python",
   "nbconvert_exporter": "python",
   "pygments_lexer": "ipython3",
   "version": "3.7.6"
  }
 },
 "nbformat": 4,
 "nbformat_minor": 4
}
